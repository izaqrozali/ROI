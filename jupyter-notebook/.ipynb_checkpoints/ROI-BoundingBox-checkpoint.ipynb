{
 "cells": [
  {
   "cell_type": "code",
   "execution_count": 2,
   "metadata": {},
   "outputs": [],
   "source": [
    "%matplotlib inline\n",
    "import matplotlib.pyplot as plt\n",
    "import cv2\n",
    "import numpy as np\n",
    "import imutils\n",
    "import sys"
   ]
  },
  {
   "cell_type": "code",
   "execution_count": 30,
   "metadata": {},
   "outputs": [],
   "source": [
    "def autocenter(bbox, pad={'r':100, 'l':50, 't':50, 'b':100}, ratio=1):\n",
    "    x,y,w,h=bbox\n",
    "    ratio_real = h/w\n",
    "    if w>h:\n",
    "        hn = int(w * ratio)\n",
    "        wn = w\n",
    "    else:\n",
    "        hn = h\n",
    "        wn = int(h * ratio)\n",
    "    \n",
    "    yn=(y + (h//2)) - (hn//2)\n",
    "    xn=(x + (w//2)) - (wn//2)\n",
    "    xn = xn - pad['l']\n",
    "    yn = yn - pad['t']\n",
    "    hn = hn + pad['b']\n",
    "    wn = wn + pad['r']\n",
    "    \n",
    "    return (xn, yn, wn, hn)\n",
    "\n",
    "# def autocenter(bbox, new_size=(500,500)):\n",
    "#     x,y,h,w = bbox\n",
    "#     hn = new_size[0]\n",
    "#     wn = new_size[1]\n",
    "\n",
    "#     xc = x + 1/2*w\n",
    "#     yc = y + 1/2*h\n",
    "\n",
    "#     hc = 1/2hn - 1/2h\n",
    "#     wc = 1/2wn - 1/2w\n",
    "\n",
    "#     xn = wc - xc\n",
    "#     yn = hc - yc\n",
    "\n",
    "#     return xn,yn,hn,wn"
   ]
  },
  {
   "cell_type": "code",
   "execution_count": 31,
   "metadata": {},
   "outputs": [
    {
     "name": "stdout",
     "output_type": "stream",
     "text": [
      " count: 0"
     ]
    }
   ],
   "source": [
    "cap = cv2.VideoCapture(0)\n",
    "\n",
    "while True: \n",
    "    _, frame = cap.read()\n",
    "    \n",
    "    blurred_frame = cv2.GaussianBlur(frame, (15, 15), 10)\n",
    "    hsv = cv2.cvtColor(blurred_frame, cv2.COLOR_BGR2HSV)\n",
    "\n",
    "    lower = np.array([50, 100, 100])\n",
    "    upper = np.array([255, 255, 255])\n",
    "\n",
    "    mask = cv2.inRange(hsv, lower, upper)\n",
    "\n",
    "    mask_inv = cv2.bitwise_not(mask)\n",
    "    im, cntr, hierarcy = cv2.findContours(mask, cv2.RETR_EXTERNAL, cv2.CHAIN_APPROX_SIMPLE)\n",
    "\n",
    "# find contours of large enough area\n",
    "    min_coin_area = 600\n",
    "    large_contours = [cnt for cnt in cntr if cv2.contourArea(cnt) > min_coin_area]\n",
    "# large_contours    \n",
    "\n",
    "# draw contours\n",
    "#     cv2.drawContours(frame, large_contours, -1, (0, 255, 0), 2)\n",
    "    sys.stdout.write('\\r count: '+str(len(large_contours)))\n",
    "    \n",
    "    for idx in range(len(large_contours)):\n",
    "        bbox = cv2.boundingRect(large_contours[idx])\n",
    "        x,y,w,h=bbox\n",
    "        x1,y1,w1,h1=autocenter(bbox)\n",
    "#         cv2.rectangle(frame, (x,y), (x+w, y+h), (0,0,255),2)\n",
    "        cv2.rectangle(frame, (x1,y1), (x1+w1, y1+h1), (0,255,0),2)\n",
    "#         if y1+h1>y1 and x1+w1>x1:\n",
    "#             plt.imshow(frame[y1:y1+h1, x1:x1+w1])\n",
    "#             cv2.imshow('frame1', frame[y1:y1+h1,x1:x1+w1])\n",
    "        \n",
    "    cv2.imshow('frame', frame)\n",
    "    \n",
    "    \n",
    "    if cv2.waitKey(1) & 0xFF == ord('q'):\n",
    "        break\n",
    "    \n",
    "cap.release()\n",
    "cv2.destroyAllWindows()"
   ]
  },
  {
   "cell_type": "code",
   "execution_count": null,
   "metadata": {},
   "outputs": [],
   "source": []
  },
  {
   "cell_type": "code",
   "execution_count": null,
   "metadata": {},
   "outputs": [],
   "source": []
  },
  {
   "cell_type": "code",
   "execution_count": null,
   "metadata": {},
   "outputs": [],
   "source": []
  }
 ],
 "metadata": {
  "kernelspec": {
   "display_name": "Python 3",
   "language": "python",
   "name": "python3"
  },
  "language_info": {
   "codemirror_mode": {
    "name": "ipython",
    "version": 3
   },
   "file_extension": ".py",
   "mimetype": "text/x-python",
   "name": "python",
   "nbconvert_exporter": "python",
   "pygments_lexer": "ipython3",
   "version": "3.6.5"
  }
 },
 "nbformat": 4,
 "nbformat_minor": 2
}
